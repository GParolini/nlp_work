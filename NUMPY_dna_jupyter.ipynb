{
 "cells": [
  {
   "cell_type": "markdown",
   "metadata": {},
   "source": [
    "# NumPy: A short introduction using DNA sequences as examples"
   ]
  },
  {
   "cell_type": "markdown",
   "metadata": {},
   "source": [
    "NumPy user guide: https://numpy.org/devdocs/user/index.html."
   ]
  },
  {
   "cell_type": "code",
   "execution_count": 1,
   "metadata": {},
   "outputs": [],
   "source": [
    "import numpy as np #Import the numpy library"
   ]
  },
  {
   "cell_type": "markdown",
   "metadata": {},
   "source": [
    "NumPy's essential data structure is a N-dimensional array (also called a ndarray). You can create a ndarray for a DNA string \"AGTACACTGGT\" as follows:"
   ]
  },
  {
   "cell_type": "code",
   "execution_count": 2,
   "metadata": {},
   "outputs": [
    {
     "name": "stdout",
     "output_type": "stream",
     "text": [
      "[b'A' b'G' b'T' b'A' b'C' b'A' b'C' b'T' b'G' b'G' b'T']\n",
      "(11,)\n",
      "|S1\n",
      "----\n",
      "['A', 'G', 'T', 'A', 'C', 'A', 'C', 'T', 'G', 'G', 'T']\n",
      "[b'A' b'G' b'T' b'A' b'C' b'A' b'C' b'T' b'G' b'G' b'T']\n",
      "(11,)\n",
      "|S1\n"
     ]
    }
   ],
   "source": [
    "dna_seq = \"AGTACACTGGT\"\n",
    "\n",
    "#Method_1\n",
    "dna_ndarray1 = np.array(dna_seq, dtype='c')\n",
    "shape1 = dna_ndarray1.shape\n",
    "dtype1 = dna_ndarray1.dtype\n",
    "print(dna_ndarray1)\n",
    "print(shape1)\n",
    "print(dtype1)\n",
    "\n",
    "print (\"----\")\n",
    "\n",
    "#Method_2\n",
    "dna_seq_split = list(dna_seq)\n",
    "print(dna_seq_split)\n",
    "dna_ndarray2 = np.array(dna_seq_split, dtype='|S1')\n",
    "shape2 = dna_ndarray2.shape\n",
    "dtype2 = dna_ndarray2.dtype\n",
    "print(dna_ndarray2)\n",
    "print(shape2)\n",
    "print(dtype2)\n",
    "\n"
   ]
  },
  {
   "cell_type": "markdown",
   "metadata": {},
   "source": [
    "1. Method_1 and Method_2 give both the same result, but in Method_2 you must remember to split the DNA sequence before transforming it into a numpy array. The b added in the numpy array means that each letter in the sequence has been transformed into a bytestring data-type in numpy.\n",
    "2. (11,) means that the numpy array is indexed by a single index that runs from 0 to 10."
   ]
  },
  {
   "cell_type": "markdown",
   "metadata": {},
   "source": [
    "You can check how many times each DNA base appears in the given sequence and store the result in a dictionary"
   ]
  },
  {
   "cell_type": "code",
   "execution_count": 3,
   "metadata": {},
   "outputs": [
    {
     "data": {
      "text/plain": [
       "{b'A': 3, b'C': 2, b'G': 3, b'T': 3}"
      ]
     },
     "execution_count": 3,
     "metadata": {},
     "output_type": "execute_result"
    }
   ],
   "source": [
    "dna_seq = \"AGTACACTGGT\"\n",
    "dna_ndarray1 = np.array(dna_seq, dtype='c')\n",
    "unique, counts = np.unique(dna_ndarray1, return_counts=True)\n",
    "dict(zip(unique, counts))"
   ]
  },
  {
   "cell_type": "markdown",
   "metadata": {},
   "source": [
    "You can check all the indexes corresponding to a given base and store the result in a dictionary"
   ]
  },
  {
   "cell_type": "code",
   "execution_count": 4,
   "metadata": {},
   "outputs": [
    {
     "data": {
      "text/plain": [
       "{b'A': (array([0, 3, 5]),),\n",
       " b'C': (array([4, 6]),),\n",
       " b'G': (array([1, 8, 9]),),\n",
       " b'T': (array([ 2,  7, 10]),)}"
      ]
     },
     "execution_count": 4,
     "metadata": {},
     "output_type": "execute_result"
    }
   ],
   "source": [
    "dna_seq = \"AGTACACTGGT\"\n",
    "dna_ndarray1 = np.array(dna_seq, dtype='c')\n",
    "unique = np.unique(dna_ndarray1)\n",
    "indA = np.where(dna_ndarray1 == b'A')\n",
    "indC = np.where(dna_ndarray1 == b'C')\n",
    "indG = np.where(dna_ndarray1 == b'G')\n",
    "indT = np.where(dna_ndarray1 == b'T')\n",
    "dict ({b'A':indA, b'C': indC, b'G':indG, b'T':indT})"
   ]
  },
  {
   "cell_type": "markdown",
   "metadata": {},
   "source": [
    "You can append one DNA sequence, represented by a numpy array, to another and print the resulting sequence."
   ]
  },
  {
   "cell_type": "code",
   "execution_count": 5,
   "metadata": {},
   "outputs": [
    {
     "name": "stdout",
     "output_type": "stream",
     "text": [
      "[b'A' b'G' b'T' b'A' b'C' b'A' b'C' b'T' b'G' b'G' b'T' b'G' b'G' b'T'\n",
      " b'T' b'A' b'C' b'T' b'A' b'A']\n"
     ]
    }
   ],
   "source": [
    "dna_seq = \"AGTACACTGGT\"\n",
    "dna_ndarray1 = np.array(dna_seq, dtype='c')\n",
    "dna_s2 = \"GGTTACTAA\"\n",
    "dna_s2_ndarray = np.array(dna_s2, dtype='c')\n",
    "dna_full = np.append(dna_ndarray1, dna_s2_ndarray, axis = 0)\n",
    "print(dna_full)"
   ]
  },
  {
   "cell_type": "markdown",
   "metadata": {},
   "source": [
    "You can insert a base into a sequence at a given place (arguments in insert are 1. name of the sequence, 2. index of the place where the base must be inserted, 3. base to be inserted (represented as a bytestring))."
   ]
  },
  {
   "cell_type": "code",
   "execution_count": 6,
   "metadata": {},
   "outputs": [
    {
     "name": "stdout",
     "output_type": "stream",
     "text": [
      "[b'A' b'G' b'T' b'A' b'C' b'C' b'A' b'C' b'T' b'G' b'G' b'T' b'G' b'G'\n",
      " b'T' b'T' b'A' b'C' b'T' b'A' b'A']\n"
     ]
    }
   ],
   "source": [
    "new_dna = np.insert(dna_full, 5, b'C')\n",
    "print(new_dna)"
   ]
  },
  {
   "cell_type": "markdown",
   "metadata": {},
   "source": [
    "As you can insert, you can also delete a base at a given position in the numpy array. In this case the third element you have to specify is the axis, as numpy array can have multiple dimensions."
   ]
  },
  {
   "cell_type": "code",
   "execution_count": 7,
   "metadata": {},
   "outputs": [
    {
     "name": "stdout",
     "output_type": "stream",
     "text": [
      "[b'A' b'G' b'T' b'A' b'C' b'A' b'C' b'T' b'G' b'G' b'G' b'G' b'T' b'T'\n",
      " b'A' b'C' b'T' b'A' b'A']\n"
     ]
    }
   ],
   "source": [
    "new_dna1 = np.delete(dna_full, 10, axis = 0)\n",
    "print(new_dna1)"
   ]
  },
  {
   "cell_type": "markdown",
   "metadata": {},
   "source": [
    "You can reshape a one dimensional array in a matrix, as long as the indexes are compatible with the elements available in the sequence. In this case dna_seq (length = 11) cannot be reshaped as a 5 by 4 array, nor can dna_s2, but dna_s2 can be reshaped as a 3 by 3 array. dna_full has length 20 and can be reshaped as a 5 by 4 array."
   ]
  },
  {
   "cell_type": "code",
   "execution_count": 8,
   "metadata": {},
   "outputs": [
    {
     "name": "stdout",
     "output_type": "stream",
     "text": [
      "[[b'A' b'G' b'T' b'A']\n",
      " [b'C' b'A' b'C' b'T']\n",
      " [b'G' b'G' b'T' b'G']\n",
      " [b'G' b'T' b'T' b'A']\n",
      " [b'C' b'T' b'A' b'A']]\n"
     ]
    }
   ],
   "source": [
    "dna_reshape = dna_full.reshape(5,4)\n",
    "print (dna_reshape)"
   ]
  },
  {
   "cell_type": "markdown",
   "metadata": {},
   "source": [
    "You can add rows and delete rows from the sequence represented above, as follows:"
   ]
  },
  {
   "cell_type": "code",
   "execution_count": 9,
   "metadata": {},
   "outputs": [
    {
     "name": "stdout",
     "output_type": "stream",
     "text": [
      "[[b'A' b'G' b'T' b'A']\n",
      " [b'C' b'A' b'C' b'T']\n",
      " [b'G' b'G' b'T' b'G']\n",
      " [b'G' b'T' b'T' b'A']\n",
      " [b'C' b'T' b'A' b'A']\n",
      " [b'T' b'T' b'T' b'T']]\n",
      "----\n",
      "[[b'A' b'G' b'T' b'A']\n",
      " [b'G' b'G' b'T' b'G']\n",
      " [b'G' b'T' b'T' b'A']\n",
      " [b'C' b'T' b'A' b'A']]\n"
     ]
    }
   ],
   "source": [
    "dna_add_row = np.append(dna_reshape, [b'T', b'T', b'T', b'T']).reshape(6,4)\n",
    "print(dna_add_row)\n",
    "\n",
    "print(\"----\")\n",
    "\n",
    "dna_delete_row = np.delete(dna_reshape, 1, axis = 0).reshape(4,4)\n",
    "print(dna_delete_row)\n"
   ]
  },
  {
   "cell_type": "markdown",
   "metadata": {},
   "source": [
    "Numpy arrays offer the opportunity to transform (i.e. reshape) the representation of the data as required, while conserving information on the raw data (i.e. the linear sequence)."
   ]
  },
  {
   "cell_type": "markdown",
   "metadata": {},
   "source": [
    "You can also select a subsequence within the sequence or slice a sequence in pieces of given length, as long as the size of the subsequences matches the size of the full sequence. That is, you can slice a sequence with 9 bases in 3 sequences with 3 bases each, but you cannot slice a sequence with 11 bases in sequences of length 3. A few examples below:"
   ]
  },
  {
   "cell_type": "code",
   "execution_count": 12,
   "metadata": {},
   "outputs": [
    {
     "name": "stdout",
     "output_type": "stream",
     "text": [
      "9\n",
      "---\n",
      "[b'G' b'G' b'T']\n",
      "[b'T' b'A' b'C']\n",
      "[b'T' b'A' b'A']\n",
      "---\n",
      "[array([b'G', b'G', b'T'], dtype='|S1'), array([b'T', b'A', b'C'], dtype='|S1'), array([b'T', b'A', b'A'], dtype='|S1')]\n",
      "---\n",
      "[b'G' b'T' b'T']\n",
      "---\n",
      "[b'G' b'G' b'T' b'T' b'A' b'C' b'T' b'A' b'A']\n",
      "---\n"
     ]
    }
   ],
   "source": [
    "dna_s2 = \"GGTTACTAA\"\n",
    "\n",
    "array_size = dna_s2_ndarray.size #Size 9, in this case 3 by 3 is the only reasonable split\n",
    "print(array_size)\n",
    "print(\"---\")\n",
    "\n",
    "slice1 = dna_s2_ndarray[0:3] #You can slice the numpy array using indexes\n",
    "slice2 = dna_s2_ndarray[3:6]\n",
    "slice3 = dna_s2_ndarray[-3:] #This extracts the last three elements\n",
    "print(slice1)\n",
    "print(slice2)\n",
    "print(slice3)\n",
    "print(\"---\")\n",
    "\n",
    "'''You can also split the array, i.e. the sequence, in subsequences of given\n",
    "length, 3 in this case'''\n",
    "sliced_arr = np.split(dna_s2_ndarray, 3) \n",
    "print(sliced_arr)\n",
    "print(\"---\")\n",
    "\n",
    "'''You can also select specific elements in the array giving starting index (0 position),\n",
    "final index for the slicing (9, which is the final element in this case),\n",
    "and 'step' (i.e. every 3 elements).'''\n",
    "seq_sel = dna_s2_ndarray[0:9:3]\n",
    "print(seq_sel)\n",
    "print(\"---\")\n",
    "\n",
    "#The initial numpy array is not changed\n",
    "print (dna_s2_ndarray)\n",
    "print(\"---\")\n"
   ]
  },
  {
   "cell_type": "markdown",
   "metadata": {},
   "source": [
    "The initial numpy array can be modified as below. If you uncomment the following lines of code the array representing dna_s2 is [b'A' b'A' b'A' b'A' b'A' b'A' b'A' b'A' b'A']"
   ]
  },
  {
   "cell_type": "code",
   "execution_count": 13,
   "metadata": {},
   "outputs": [],
   "source": [
    "#dna_s2_ndarray[:] = \"A\" \n",
    "#print(dna_s2_ndarray)"
   ]
  },
  {
   "cell_type": "markdown",
   "metadata": {},
   "source": [
    "You can transform each base in the sequence in its complementary base (G-C; A-T)"
   ]
  },
  {
   "cell_type": "code",
   "execution_count": 35,
   "metadata": {},
   "outputs": [
    {
     "name": "stdout",
     "output_type": "stream",
     "text": [
      "['G', 'G', 'T', 'T', 'A', 'C', 'T', 'A', 'A']\n",
      "[b'C' b'C' b'A' b'A' b'T' b'G' b'A' b'T' b'T']\n"
     ]
    }
   ],
   "source": [
    "dict_compl = {'A':'T','C':'G','G':'C','T':'A'}\n",
    "lst = [\",\".join(item) for item in dna_s2_ndarray.astype(str)]\n",
    "print(lst)\n",
    "compl_bas = lambda x:\"\".join([dict_compl[base] for base in x])\n",
    "compl_bas_array = np.array(compl_bas(lst), dtype = 'c')\n",
    "print(compl_bas_array)"
   ]
  },
  {
   "cell_type": "code",
   "execution_count": null,
   "metadata": {},
   "outputs": [],
   "source": []
  }
 ],
 "metadata": {
  "kernelspec": {
   "display_name": "Python 3",
   "language": "python",
   "name": "python3"
  },
  "language_info": {
   "codemirror_mode": {
    "name": "ipython",
    "version": 3
   },
   "file_extension": ".py",
   "mimetype": "text/x-python",
   "name": "python",
   "nbconvert_exporter": "python",
   "pygments_lexer": "ipython3",
   "version": "3.7.5"
  }
 },
 "nbformat": 4,
 "nbformat_minor": 4
}
